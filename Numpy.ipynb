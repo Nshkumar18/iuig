{
 "cells": [
  {
   "cell_type": "code",
   "execution_count": 3,
   "id": "18499fe2",
   "metadata": {},
   "outputs": [
    {
     "name": "stdout",
     "output_type": "stream",
     "text": [
      "[0 0 0 0 1 0 0 0 0 0]\n"
     ]
    }
   ],
   "source": [
    "#Create a null vector of size 10 but the fifth value which is 1.\n",
    "A=np.array([int(x==4) for x in range(10)])\n",
    "print(A)"
   ]
  },
  {
   "cell_type": "code",
   "execution_count": 4,
   "id": "2ea08ab8",
   "metadata": {},
   "outputs": [
    {
     "name": "stdout",
     "output_type": "stream",
     "text": [
      "[10 11 12 13 14 15 16 17 18 19 20 21 22 23 24 25 26 27 28 29 30 31 32 33\n",
      " 34 35 36 37 38 39 40 41 42 43 44 45 46 47 48 49]\n"
     ]
    }
   ],
   "source": [
    "# Create a vector with values ranging from 10 to 49\n",
    "B=np.arange(10,50)\n",
    "print (B)"
   ]
  },
  {
   "cell_type": "code",
   "execution_count": 5,
   "id": "1c030248",
   "metadata": {},
   "outputs": [
    {
     "name": "stdout",
     "output_type": "stream",
     "text": [
      "[[0 1 2]\n",
      " [3 4 5]\n",
      " [6 7 8]]\n"
     ]
    }
   ],
   "source": [
    "#Create a 3x3 matrix with values ranging from 0 to 8\n",
    "C = np.arange(9).reshape(3,3)\n",
    "print (C)"
   ]
  },
  {
   "cell_type": "code",
   "execution_count": 6,
   "id": "fcb4f894",
   "metadata": {},
   "outputs": [
    {
     "name": "stdout",
     "output_type": "stream",
     "text": [
      "(array([0, 1, 4], dtype=int64),)\n"
     ]
    }
   ],
   "source": [
    "#Find indices of non-zero elements from [1,2,0,0,4,0]\n",
    "D = np.nonzero([1,2,0,0,4,0])\n",
    "print(D)"
   ]
  },
  {
   "cell_type": "code",
   "execution_count": 7,
   "id": "cb6e4dff",
   "metadata": {},
   "outputs": [
    {
     "name": "stdout",
     "output_type": "stream",
     "text": [
      "0.01618189752318988 0.9973804788562962\n"
     ]
    }
   ],
   "source": [
    "#Create a 10x10 array with random values and find the minimum and maximum values\n",
    "Z = np.random.random((10,10))\n",
    "Zmin, Zmax = Z.min(), Z.max()\n",
    "print(Zmin, Zmax)"
   ]
  },
  {
   "cell_type": "code",
   "execution_count": 8,
   "id": "c3935a58",
   "metadata": {},
   "outputs": [
    {
     "name": "stdout",
     "output_type": "stream",
     "text": [
      "0.4371533290475905\n"
     ]
    }
   ],
   "source": [
    "#Create a random vector of size 30 and find the mean value\n",
    "E = np.random.random(10)\n",
    "m = E.mean()\n",
    "print (m)"
   ]
  },
  {
   "cell_type": "code",
   "execution_count": null,
   "id": "0fde48a3",
   "metadata": {},
   "outputs": [],
   "source": []
  }
 ],
 "metadata": {
  "kernelspec": {
   "display_name": "Python 3 (ipykernel)",
   "language": "python",
   "name": "python3"
  },
  "language_info": {
   "codemirror_mode": {
    "name": "ipython",
    "version": 3
   },
   "file_extension": ".py",
   "mimetype": "text/x-python",
   "name": "python",
   "nbconvert_exporter": "python",
   "pygments_lexer": "ipython3",
   "version": "3.10.0"
  }
 },
 "nbformat": 4,
 "nbformat_minor": 5
}
