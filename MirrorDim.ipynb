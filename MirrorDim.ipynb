{
 "cells": [
  {
   "cell_type": "code",
   "execution_count": 1,
   "id": "3fb2819e",
   "metadata": {},
   "outputs": [
    {
     "name": "stdout",
     "output_type": "stream",
     "text": [
      "Enter the word for Mirror Dimension :naresh\n",
      "hseran\n"
     ]
    }
   ],
   "source": [
    "word=input(\"Enter the word for Mirror Dimension :\")\n",
    "rev=word[::-1]\n",
    "print(rev)\n"
   ]
  },
  {
   "cell_type": "code",
   "execution_count": 3,
   "id": "d2859c30",
   "metadata": {},
   "outputs": [
    {
     "name": "stdout",
     "output_type": "stream",
     "text": [
      "Enter the word for Mirror Dimension :Edyoda\n",
      "adoydE\n"
     ]
    }
   ],
   "source": [
    "word=input(\"Enter the word for Mirror Dimension :\")\n",
    "if word==\"Edyoda\" :\n",
    "    rev=word[::-1]\n",
    "    print(rev)\n",
    "else :\n",
    "    print(\"Entered word is not accepted\")"
   ]
  },
  {
   "cell_type": "code",
   "execution_count": null,
   "id": "5be0bf71",
   "metadata": {},
   "outputs": [],
   "source": []
  }
 ],
 "metadata": {
  "kernelspec": {
   "display_name": "Python 3 (ipykernel)",
   "language": "python",
   "name": "python3"
  },
  "language_info": {
   "codemirror_mode": {
    "name": "ipython",
    "version": 3
   },
   "file_extension": ".py",
   "mimetype": "text/x-python",
   "name": "python",
   "nbconvert_exporter": "python",
   "pygments_lexer": "ipython3",
   "version": "3.9.7"
  }
 },
 "nbformat": 4,
 "nbformat_minor": 5
}
