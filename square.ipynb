{
 "cells": [
  {
   "cell_type": "code",
   "execution_count": 4,
   "id": "8b32b6d2",
   "metadata": {},
   "outputs": [
    {
     "name": "stdout",
     "output_type": "stream",
     "text": [
      "The given list of numbers: [4, 5, 2, 9]\n",
      "Square numbers for given list of numbers :\n",
      "[16, 25, 4, 81]\n"
     ]
    }
   ],
   "source": [
    "def square_num(n):\n",
    "    return n*n\n",
    "num=[4,5,2,9]\n",
    "print('The given list of numbers:',num)\n",
    "result=map(square_num,num)\n",
    "print('Square numbers for given list of numbers :')\n",
    "print(list(result))\n"
   ]
  },
  {
   "cell_type": "code",
   "execution_count": null,
   "id": "1b243126",
   "metadata": {},
   "outputs": [],
   "source": []
  },
  {
   "cell_type": "code",
   "execution_count": null,
   "id": "88532890",
   "metadata": {},
   "outputs": [],
   "source": []
  }
 ],
 "metadata": {
  "kernelspec": {
   "display_name": "Python 3 (ipykernel)",
   "language": "python",
   "name": "python3"
  },
  "language_info": {
   "codemirror_mode": {
    "name": "ipython",
    "version": 3
   },
   "file_extension": ".py",
   "mimetype": "text/x-python",
   "name": "python",
   "nbconvert_exporter": "python",
   "pygments_lexer": "ipython3",
   "version": "3.9.7"
  }
 },
 "nbformat": 4,
 "nbformat_minor": 5
}
