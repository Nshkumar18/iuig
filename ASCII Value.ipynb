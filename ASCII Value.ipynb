{
 "cells": [
  {
   "cell_type": "code",
   "execution_count": 47,
   "id": "f75bfa4a",
   "metadata": {},
   "outputs": [
    {
     "data": {
      "text/plain": [
       "{'A': 97,\n",
       " 'B': 98,\n",
       " 'C': 99,\n",
       " 'D': 100,\n",
       " 'E': 101,\n",
       " 'F': 102,\n",
       " 'G': 103,\n",
       " 'H': 104,\n",
       " 'I': 105,\n",
       " 'J': 106,\n",
       " 'K': 107,\n",
       " 'L': 108,\n",
       " 'M': 109,\n",
       " 'N': 110,\n",
       " 'O': 111,\n",
       " 'P': 112,\n",
       " 'Q': 113,\n",
       " 'R': 114,\n",
       " 'S': 115,\n",
       " 'T': 116,\n",
       " 'U': 117,\n",
       " 'V': 118,\n",
       " 'W': 119,\n",
       " 'X': 120,\n",
       " 'Y': 121,\n",
       " 'Z': 122}"
      ]
     },
     "execution_count": 47,
     "metadata": {},
     "output_type": "execute_result"
    }
   ],
   "source": [
    " import string\n",
    " dict(zip(string.ascii_uppercase, range(97,123)))"
   ]
  },
  {
   "cell_type": "code",
   "execution_count": null,
   "id": "e39693cb",
   "metadata": {},
   "outputs": [],
   "source": [
    " "
   ]
  },
  {
   "cell_type": "code",
   "execution_count": null,
   "id": "0c92fd9f",
   "metadata": {},
   "outputs": [],
   "source": []
  }
 ],
 "metadata": {
  "kernelspec": {
   "display_name": "Python 3 (ipykernel)",
   "language": "python",
   "name": "python3"
  },
  "language_info": {
   "codemirror_mode": {
    "name": "ipython",
    "version": 3
   },
   "file_extension": ".py",
   "mimetype": "text/x-python",
   "name": "python",
   "nbconvert_exporter": "python",
   "pygments_lexer": "ipython3",
   "version": "3.9.7"
  }
 },
 "nbformat": 4,
 "nbformat_minor": 5
}
