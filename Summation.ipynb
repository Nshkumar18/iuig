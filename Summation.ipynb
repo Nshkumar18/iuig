{
 "cells": [
  {
   "cell_type": "code",
   "execution_count": 25,
   "id": "ad4bd3e8",
   "metadata": {},
   "outputs": [
    {
     "name": "stdout",
     "output_type": "stream",
     "text": [
      "summation of 8+2+3+0+7 = 20\n"
     ]
    }
   ],
   "source": [
    "def sum(num):\n",
    "    total=0\n",
    "    for i in num:\n",
    "        total += i\n",
    "    return total\n",
    "sum((8, 2, 3, 0, 7))\n",
    "print('summation of 8+2+3+0+7','=',sum((8, 2, 3, 0, 7)))\n"
   ]
  },
  {
   "cell_type": "code",
   "execution_count": null,
   "id": "07ccb8e1",
   "metadata": {},
   "outputs": [],
   "source": []
  },
  {
   "cell_type": "code",
   "execution_count": null,
   "id": "fa44417f",
   "metadata": {},
   "outputs": [],
   "source": []
  }
 ],
 "metadata": {
  "kernelspec": {
   "display_name": "Python 3 (ipykernel)",
   "language": "python",
   "name": "python3"
  },
  "language_info": {
   "codemirror_mode": {
    "name": "ipython",
    "version": 3
   },
   "file_extension": ".py",
   "mimetype": "text/x-python",
   "name": "python",
   "nbconvert_exporter": "python",
   "pygments_lexer": "ipython3",
   "version": "3.9.7"
  }
 },
 "nbformat": 4,
 "nbformat_minor": 5
}
